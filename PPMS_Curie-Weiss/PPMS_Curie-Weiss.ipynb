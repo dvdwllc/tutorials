{
 "cells": [
  {
   "cell_type": "markdown",
   "metadata": {},
   "source": [
    "#Visualizing data from a Quantum Design Physical Property Measurement System"
   ]
  },
  {
   "cell_type": "markdown",
   "metadata": {},
   "source": [
    "Quantum Design gives us a datafile in comma separated format. Generally we'd import this into Excel, select the columns we want, and then copy/paste the data into another data analysis environment where we then perform corrections and curve fitting to the data. We can streamline this process significantly using an iPython notebook, with the added benefit of improved transparency and tracking of our analysis. \n",
    "\n",
    "I recommend you start by installing the Anaconda Scientific Python distribution, which you can download for free at https://store.continuum.io/cshop/anaconda/. Once you've installed anaconda, open up a fresh iPython notebook and follow along!\n",
    "\n",
    "To get started, we'll need to import three items:\n",
    "    1) Pandas\n",
    "    2) Matplotlib\n",
    "    3) NumPy"
   ]
  },
  {
   "cell_type": "code",
   "execution_count": 1,
   "metadata": {
    "collapsed": true
   },
   "outputs": [],
   "source": [
    "import pandas as pd\n",
    "import matplotlib.pyplot as plt\n",
    "import numpy as np"
   ]
  },
  {
   "cell_type": "markdown",
   "metadata": {},
   "source": [
    "We'll open our datafile using the pandas read_csv module, which allows us to specify where the column headers are in the datafile using the skip_rows argument:"
   ]
  },
  {
   "cell_type": "code",
   "execution_count": 2,
   "metadata": {
    "collapsed": true
   },
   "outputs": [],
   "source": [
    "data = pd.read_csv('exampleData.dat', skiprows=30)"
   ]
  },
  {
   "cell_type": "markdown",
   "metadata": {},
   "source": [
    "'data' is now a pandas DataFrame, which contains columns of data that can be referenced by their labels. To verify that the import went as planned, we can look at the top few rows of the dataframe:"
   ]
  },
  {
   "cell_type": "code",
   "execution_count": 3,
   "metadata": {
    "collapsed": false
   },
   "outputs": [
    {
     "data": {
      "text/html": [
       "<div style=\"max-height:1000px;max-width:1500px;overflow:auto;\">\n",
       "<table border=\"1\" class=\"dataframe\">\n",
       "  <thead>\n",
       "    <tr style=\"text-align: right;\">\n",
       "      <th></th>\n",
       "      <th>Comment</th>\n",
       "      <th>Time Stamp (sec)</th>\n",
       "      <th>Temperature (K)</th>\n",
       "      <th>Magnetic Field (Oe)</th>\n",
       "      <th>Frequency (Hz)</th>\n",
       "      <th>Amplitude (Oe)</th>\n",
       "      <th>M-DC (emu)</th>\n",
       "      <th>M-Std.Dev. (emu)</th>\n",
       "      <th>M' (emu)</th>\n",
       "      <th>M'' (emu)</th>\n",
       "      <th>...</th>\n",
       "      <th>Map 20 ()</th>\n",
       "      <th>Map 21 ()</th>\n",
       "      <th>Map 22 ()</th>\n",
       "      <th>Map 23 ()</th>\n",
       "      <th>Map 24 ()</th>\n",
       "      <th>Map 25 ()</th>\n",
       "      <th>Map 26 ()</th>\n",
       "      <th>Map 27 ()</th>\n",
       "      <th>Map 28 ()</th>\n",
       "      <th>Map 29 ()</th>\n",
       "    </tr>\n",
       "  </thead>\n",
       "  <tbody>\n",
       "    <tr>\n",
       "      <th>0</th>\n",
       "      <td>NaN</td>\n",
       "      <td>2116401.96</td>\n",
       "      <td>1.990923</td>\n",
       "      <td>9999.475</td>\n",
       "      <td>NaN</td>\n",
       "      <td>NaN</td>\n",
       "      <td>0.006052</td>\n",
       "      <td>0.000092</td>\n",
       "      <td>NaN</td>\n",
       "      <td>NaN</td>\n",
       "      <td>...</td>\n",
       "      <td>NaN</td>\n",
       "      <td>NaN</td>\n",
       "      <td>NaN</td>\n",
       "      <td>NaN</td>\n",
       "      <td>NaN</td>\n",
       "      <td>1.990923</td>\n",
       "      <td>NaN</td>\n",
       "      <td>NaN</td>\n",
       "      <td>NaN</td>\n",
       "      <td>NaN</td>\n",
       "    </tr>\n",
       "    <tr>\n",
       "      <th>1</th>\n",
       "      <td>NaN</td>\n",
       "      <td>2116430.42</td>\n",
       "      <td>1.988199</td>\n",
       "      <td>9999.475</td>\n",
       "      <td>NaN</td>\n",
       "      <td>NaN</td>\n",
       "      <td>0.006092</td>\n",
       "      <td>0.000041</td>\n",
       "      <td>NaN</td>\n",
       "      <td>NaN</td>\n",
       "      <td>...</td>\n",
       "      <td>NaN</td>\n",
       "      <td>NaN</td>\n",
       "      <td>NaN</td>\n",
       "      <td>NaN</td>\n",
       "      <td>NaN</td>\n",
       "      <td>1.988199</td>\n",
       "      <td>NaN</td>\n",
       "      <td>NaN</td>\n",
       "      <td>NaN</td>\n",
       "      <td>NaN</td>\n",
       "    </tr>\n",
       "    <tr>\n",
       "      <th>2</th>\n",
       "      <td>NaN</td>\n",
       "      <td>2116458.67</td>\n",
       "      <td>1.992494</td>\n",
       "      <td>9999.475</td>\n",
       "      <td>NaN</td>\n",
       "      <td>NaN</td>\n",
       "      <td>0.006082</td>\n",
       "      <td>0.000043</td>\n",
       "      <td>NaN</td>\n",
       "      <td>NaN</td>\n",
       "      <td>...</td>\n",
       "      <td>NaN</td>\n",
       "      <td>NaN</td>\n",
       "      <td>NaN</td>\n",
       "      <td>NaN</td>\n",
       "      <td>NaN</td>\n",
       "      <td>1.992494</td>\n",
       "      <td>NaN</td>\n",
       "      <td>NaN</td>\n",
       "      <td>NaN</td>\n",
       "      <td>NaN</td>\n",
       "    </tr>\n",
       "    <tr>\n",
       "      <th>3</th>\n",
       "      <td>NaN</td>\n",
       "      <td>2116597.94</td>\n",
       "      <td>2.024487</td>\n",
       "      <td>9999.475</td>\n",
       "      <td>NaN</td>\n",
       "      <td>NaN</td>\n",
       "      <td>0.006061</td>\n",
       "      <td>0.000041</td>\n",
       "      <td>NaN</td>\n",
       "      <td>NaN</td>\n",
       "      <td>...</td>\n",
       "      <td>NaN</td>\n",
       "      <td>NaN</td>\n",
       "      <td>NaN</td>\n",
       "      <td>NaN</td>\n",
       "      <td>NaN</td>\n",
       "      <td>2.024487</td>\n",
       "      <td>NaN</td>\n",
       "      <td>NaN</td>\n",
       "      <td>NaN</td>\n",
       "      <td>NaN</td>\n",
       "    </tr>\n",
       "    <tr>\n",
       "      <th>4</th>\n",
       "      <td>NaN</td>\n",
       "      <td>2116721.92</td>\n",
       "      <td>3.033074</td>\n",
       "      <td>9999.475</td>\n",
       "      <td>NaN</td>\n",
       "      <td>NaN</td>\n",
       "      <td>0.005840</td>\n",
       "      <td>0.000042</td>\n",
       "      <td>NaN</td>\n",
       "      <td>NaN</td>\n",
       "      <td>...</td>\n",
       "      <td>NaN</td>\n",
       "      <td>NaN</td>\n",
       "      <td>NaN</td>\n",
       "      <td>NaN</td>\n",
       "      <td>NaN</td>\n",
       "      <td>3.033074</td>\n",
       "      <td>NaN</td>\n",
       "      <td>NaN</td>\n",
       "      <td>NaN</td>\n",
       "      <td>NaN</td>\n",
       "    </tr>\n",
       "  </tbody>\n",
       "</table>\n",
       "<p>5 rows × 57 columns</p>\n",
       "</div>"
      ],
      "text/plain": [
       "   Comment  Time Stamp (sec)  Temperature (K)  Magnetic Field (Oe)  \\\n",
       "0      NaN        2116401.96         1.990923             9999.475   \n",
       "1      NaN        2116430.42         1.988199             9999.475   \n",
       "2      NaN        2116458.67         1.992494             9999.475   \n",
       "3      NaN        2116597.94         2.024487             9999.475   \n",
       "4      NaN        2116721.92         3.033074             9999.475   \n",
       "\n",
       "   Frequency (Hz)  Amplitude (Oe)  M-DC (emu)  M-Std.Dev. (emu)  M' (emu)  \\\n",
       "0             NaN             NaN    0.006052          0.000092       NaN   \n",
       "1             NaN             NaN    0.006092          0.000041       NaN   \n",
       "2             NaN             NaN    0.006082          0.000043       NaN   \n",
       "3             NaN             NaN    0.006061          0.000041       NaN   \n",
       "4             NaN             NaN    0.005840          0.000042       NaN   \n",
       "\n",
       "   M'' (emu)    ...      Map 20 ()  Map 21 ()  Map 22 ()  Map 23 ()  \\\n",
       "0        NaN    ...            NaN        NaN        NaN        NaN   \n",
       "1        NaN    ...            NaN        NaN        NaN        NaN   \n",
       "2        NaN    ...            NaN        NaN        NaN        NaN   \n",
       "3        NaN    ...            NaN        NaN        NaN        NaN   \n",
       "4        NaN    ...            NaN        NaN        NaN        NaN   \n",
       "\n",
       "   Map 24 ()  Map 25 ()  Map 26 ()  Map 27 ()  Map 28 ()  Map 29 ()  \n",
       "0        NaN   1.990923        NaN        NaN        NaN        NaN  \n",
       "1        NaN   1.988199        NaN        NaN        NaN        NaN  \n",
       "2        NaN   1.992494        NaN        NaN        NaN        NaN  \n",
       "3        NaN   2.024487        NaN        NaN        NaN        NaN  \n",
       "4        NaN   3.033074        NaN        NaN        NaN        NaN  \n",
       "\n",
       "[5 rows x 57 columns]"
      ]
     },
     "execution_count": 3,
     "metadata": {},
     "output_type": "execute_result"
    }
   ],
   "source": [
    "data.head()"
   ]
  },
  {
   "cell_type": "markdown",
   "metadata": {},
   "source": [
    "We can plot the data in any column as a function of the index (first column), which is currently just the measurement number."
   ]
  },
  {
   "cell_type": "code",
   "execution_count": 4,
   "metadata": {
    "collapsed": false
   },
   "outputs": [],
   "source": [
    "%matplotlib inline\n",
    "# This 'magic' makes our plots show up as images in the notebook"
   ]
  },
  {
   "cell_type": "code",
   "execution_count": 5,
   "metadata": {
    "collapsed": false
   },
   "outputs": [
    {
     "data": {
      "text/plain": [
       "<matplotlib.axes._subplots.AxesSubplot at 0x1076071d0>"
      ]
     },
     "execution_count": 5,
     "metadata": {},
     "output_type": "execute_result"
    },
    {
     "data": {
      "image/png": "[encoded data removed]",
      "text/plain": [
       "<matplotlib.figure.Figure at 0x1043dc0d0>"
      ]
     },
     "metadata": {},
     "output_type": "display_data"
    }
   ],
   "source": [
    "data['M-DC (emu)'].plot()"
   ]
  },
  {
   "cell_type": "markdown",
   "metadata": {},
   "source": [
    "This looks strange. Ideally, we'd like to be able to plot things as a function of Temperature, not measurement number. We can do that by explicitly calling matplotlib:"
   ]
  },
  {
   "cell_type": "code",
   "execution_count": 6,
   "metadata": {
    "collapsed": false
   },
   "outputs": [
    {
     "data": {
      "text/plain": [
       "[<matplotlib.lines.Line2D at 0x10786ff10>]"
      ]
     },
     "execution_count": 6,
     "metadata": {},
     "output_type": "execute_result"
    },
    {
     "data": {
      "image/png": "[encoded data removed]",
      "text/plain": [
       "<matplotlib.figure.Figure at 0x107740c10>"
      ]
     },
     "metadata": {},
     "output_type": "display_data"
    }
   ],
   "source": [
    "T_LABEL = 'Temperature (K)' ''\n",
    "M_LABEL = 'M-DC (emu)'\n",
    "\n",
    "plt.plot(data[T_LABEL], data[M_LABEL]) # plot M vs. T"
   ]
  },
  {
   "cell_type": "markdown",
   "metadata": {},
   "source": [
    "That's more like it. Matplotlib has lots of cool functionality, and can be used to make some pretty nice plots (with some effort on your part to install fonts and set styles). The plot below will not look very nice, but it gives an example of few things you can do with matplotlib."
   ]
  },
  {
   "cell_type": "code",
   "execution_count": 8,
   "metadata": {
    "collapsed": false
   },
   "outputs": [
    {
     "data": {
      "text/plain": [
       "<matplotlib.legend.Legend at 0x107c1b5d0>"
      ]
     },
     "execution_count": 8,
     "metadata": {},
     "output_type": "execute_result"
    },
    {
     "data": {
      "image/png": "[encoded data removed]",
      "text/plain": [
       "<matplotlib.figure.Figure at 0x107759350>"
      ]
     },
     "metadata": {},
     "output_type": "display_data"
    }
   ],
   "source": [
    "figure_title = 'Figure Titles are Silly'\n",
    "figure_comment = 'This is some text!'\n",
    "\n",
    "x_values = data[T_LABEL].values\n",
    "y_values = data[M_LABEL].values\n",
    "\n",
    "# point style: connected circles\n",
    "# label the data\n",
    "plt.plot(x_values, y_values, 'o-', label=\"Legend!\") \n",
    "plt.xlabel(T_LABEL) # Set the x label\n",
    "plt.ylabel(M_LABEL) # Set the y label\n",
    "plt.text(100,0.003, figure_comment) # place text into the figure\n",
    "plt.title(figure_title) # add a title (not recommended)\n",
    "\n",
    "plt.legend()"
   ]
  },
  {
   "cell_type": "markdown",
   "metadata": {},
   "source": [
    "#Curie-Weiss analysis of magnetic susceptibility data using scipy.optimize.curve_fit"
   ]
  },
  {
   "cell_type": "markdown",
   "metadata": {},
   "source": [
    "Believe it or not, Python is good for more than just visualizing data. We'll use a curve fitting algorithm in two different ways to perform a Curie-Weiss analysis on the magnetization data contained in the .dat file we originally imported."
   ]
  },
  {
   "cell_type": "code",
   "execution_count": 12,
   "metadata": {
    "collapsed": false
   },
   "outputs": [],
   "source": [
    "# make temperature, magnetization, and field into individual arrays for simplicity.\n",
    "\n",
    "T = data[T_LABEL].values\n",
    "M = data[M_LABEL].values\n",
    "\n",
    "H_LABEL = 'Magnetic Field (Oe)'\n",
    "H = data[H_LABEL].values"
   ]
  },
  {
   "cell_type": "code",
   "execution_count": 17,
   "metadata": {
    "collapsed": false
   },
   "outputs": [],
   "source": [
    "# example measurement parameters\n",
    "mass = 0.1 # fample mass in grams\n",
    "FW = 400.0 # formula weight of compound\n",
    "nmol = mass/FW # calculated number of moles"
   ]
  },
  {
   "cell_type": "code",
   "execution_count": 18,
   "metadata": {
    "collapsed": true
   },
   "outputs": [],
   "source": [
    "Chi = M/(H*nmol) # magnetic Susceptibility"
   ]
  },
  {
   "cell_type": "markdown",
   "metadata": {},
   "source": [
    "The magnetic susceptibility of paramagnetic materials is well described by the Curie-Weiss law, which you can google on your own. Let's build a function in accordance with the Curie-Weiss law that we can fit to our susceptibility data."
   ]
  },
  {
   "cell_type": "code",
   "execution_count": 19,
   "metadata": {
    "collapsed": true
   },
   "outputs": [],
   "source": [
    "def curie_weiss_law(T, C, theta_W, Chi0):\n",
    "    \"\"\"C = curie constant\n",
    "       theta_W = Weiss temperature\n",
    "       Chi0 = temperature-independent susceptibility\"\"\"\n",
    "    return C/(T-theta_W) + Chi0"
   ]
  },
  {
   "cell_type": "markdown",
   "metadata": {},
   "source": [
    "We'll try to fit this function to our susceptibility data over the entire temperature range using scipy.optimize.curve_fit."
   ]
  },
  {
   "cell_type": "code",
   "execution_count": 20,
   "metadata": {
    "collapsed": true
   },
   "outputs": [],
   "source": [
    "from scipy.optimize import curve_fit"
   ]
  },
  {
   "cell_type": "code",
   "execution_count": 23,
   "metadata": {
    "collapsed": false
   },
   "outputs": [],
   "source": [
    "popt, pcov = curve_fit(curie_weiss_law, T, Chi)"
   ]
  },
  {
   "cell_type": "markdown",
   "metadata": {},
   "source": [
    "popt contains the optimized paramters in the order in which they appear in CW_law. pcov is the covariance matrix, which we'll use to extract the errors in the fitted parameter.\n",
    "\n",
    "Let's have a look at the fit."
   ]
  },
  {
   "cell_type": "code",
   "execution_count": 25,
   "metadata": {
    "collapsed": false
   },
   "outputs": [
    {
     "data": {
      "text/plain": [
       "<matplotlib.legend.Legend at 0x109788d50>"
      ]
     },
     "execution_count": 25,
     "metadata": {},
     "output_type": "execute_result"
    },
    {
     "data": {
      "image/png": "[encoded data removed]",
      "text/plain": [
       "<matplotlib.figure.Figure at 0x107888310>"
      ]
     },
     "metadata": {},
     "output_type": "display_data"
    }
   ],
   "source": [
    "first_CW_fit = curie_weiss_law(T, popt[0], popt[1], popt[2])\n",
    "\n",
    "plt.plot(T, Chi, 'x', label='data')\n",
    "plt.plot(T, first_CW_fit, label='fit')\n",
    "\n",
    "formatted_y_label = '$\\chi$ (emu mol$^{-1}$ Oe$^{-1}$)'\n",
    "\n",
    "plt.ylabel(formatted_y_label) # Set the y label\n",
    "plt.xlabel(T_LABEL) # Set the x label\n",
    "plt.legend()"
   ]
  },
  {
   "cell_type": "markdown",
   "metadata": {},
   "source": [
    "Let's also look at the error in the fit"
   ]
  },
  {
   "cell_type": "code",
   "execution_count": 38,
   "metadata": {
    "collapsed": false
   },
   "outputs": [
    {
     "data": {
      "text/plain": [
       "<matplotlib.legend.Legend at 0x10a4ea150>"
      ]
     },
     "execution_count": 38,
     "metadata": {},
     "output_type": "execute_result"
    },
    {
     "data": {
      "image/png": "[encoded data removed]",
      "text/plain": [
       "<matplotlib.figure.Figure at 0x10a150c50>"
      ]
     },
     "metadata": {},
     "output_type": "display_data"
    }
   ],
   "source": [
    "error1 = Chi-first_CW_fit\n",
    "\n",
    "plt.plot(T, error1, 'x', label='error')\n",
    "plt.ylabel(formatted_y_label) # Set the y label\n",
    "plt.xlabel(T_LABEL) # Set the x label\n",
    "plt.legend()"
   ]
  },
  {
   "cell_type": "markdown",
   "metadata": {},
   "source": [
    "Even from a qualitative standpoint, we can see that the fit is not good. There is a small anomaly in the data around 15K that probably signifies some antiferromagnetic ordering, so we should only perform the fit to data at temperatures well above 15K. We can find an appropriate starting point for the fit using the np.argwhere function:"
   ]
  },
  {
   "cell_type": "code",
   "execution_count": 28,
   "metadata": {
    "collapsed": false
   },
   "outputs": [],
   "source": [
    "start_temp = 20.0 # Kelvin\n",
    "START_INDEX = np.argwhere(T > start_temp)[0][0] "
   ]
  },
  {
   "cell_type": "markdown",
   "metadata": {},
   "source": [
    "np.argwhere returns an array of all indices for which T is greater that 20.0, \n",
    "but we only want the first value, so we grab element [0][0].\n",
    "\n",
    "Now we can repeat the fit using our new lower bound."
   ]
  },
  {
   "cell_type": "code",
   "execution_count": 31,
   "metadata": {
    "collapsed": false
   },
   "outputs": [
    {
     "data": {
      "text/plain": [
       "<matplotlib.legend.Legend at 0x10a0dc9d0>"
      ]
     },
     "execution_count": 31,
     "metadata": {},
     "output_type": "execute_result"
    },
    {
     "data": {
      "image/png": "[encoded data removed]",
      "text/plain": [
       "<matplotlib.figure.Figure at 0x109dbecd0>"
      ]
     },
     "metadata": {},
     "output_type": "display_data"
    }
   ],
   "source": [
    "# Fit curie_weiss_law to experimental data, starting a start_temp\n",
    "popt2, pcov2 = curve_fit(curie_weiss_law, T[START_INDEX:], Chi[START_INDEX:]) \n",
    "\n",
    "# compute the fit\n",
    "second_fit = curie_weiss_law(T[START_INDEX:], popt2[0], popt2[1], popt2[2])\n",
    "\n",
    "plt.plot(T, Chi, 'x', label='data')\n",
    "plt.plot(T[START_INDEX:], second_fit, label='Improved fit')\n",
    "\n",
    "plt.ylabel(formatted_y_label) # set the y label\n",
    "plt.xlabel(T_LABEL) # set the x label\n",
    "\n",
    "plt.legend()"
   ]
  },
  {
   "cell_type": "code",
   "execution_count": 39,
   "metadata": {
    "collapsed": false
   },
   "outputs": [
    {
     "data": {
      "text/plain": [
       "<matplotlib.legend.Legend at 0x1096ea910>"
      ]
     },
     "execution_count": 39,
     "metadata": {},
     "output_type": "execute_result"
    },
    {
     "data": {
      "image/png": "[encoded data removed]",
      "text/plain": [
       "<matplotlib.figure.Figure at 0x10a231150>"
      ]
     },
     "metadata": {},
     "output_type": "display_data"
    }
   ],
   "source": [
    "# view errors\n",
    "error2 = Chi[START_INDEX:]-second_fit\n",
    "\n",
    "plt.plot(T[START_INDEX:], error2, 'x', label='error')\n",
    "plt.ylabel(formatted_y_label) # set the y label\n",
    "plt.xlabel(T_LABEL) # set the x label\n",
    "plt.legend()"
   ]
  },
  {
   "cell_type": "markdown",
   "metadata": {},
   "source": [
    "Finally, let's make a plot with our data and our Curie-Weiss fit, and print the refined parameters."
   ]
  },
  {
   "cell_type": "code",
   "execution_count": 82,
   "metadata": {
    "collapsed": false
   },
   "outputs": [
    {
     "name": "stdout",
     "output_type": "stream",
     "text": [
      "Mu_eff = 1.272797(0.186728)\n",
      "Weiss_theta = -96.648111(2.074951)\n",
      "Chi_0 = -0.000083(0.000010)\n"
     ]
    },
    {
     "data": {
      "image/png": "[encoded data removed]",
      "text/plain": [
       "<matplotlib.figure.Figure at 0x10f38c410>"
      ]
     },
     "metadata": {},
     "output_type": "display_data"
    }
   ],
   "source": [
    "# standard deviation of refined parameters is found by \n",
    "#computing the square root of the covariance matrix\n",
    "perr2 = np.sqrt(np.diag(pcov2))\n",
    "\n",
    "Mu_eff = 2.82*np.sqrt(popt2[0])\n",
    "Mu_eff_err = 2.82*np.sqrt(perr2[0])\n",
    "Weiss_theta = popt2[1]\n",
    "Weiss_theta_err = perr2[1]\n",
    "Chi_0 = popt2[2]\n",
    "Chi_0_err = perr2[2]\n",
    "\n",
    "plt.plot(T, Chi, 'x', color = 'blue', label='data')\n",
    "plt.plot(T[START_INDEX:], second_fit, color='red')\n",
    "    \n",
    "plt.ylabel(formatted_y_label) # set the y label\n",
    "plt.xlabel(T_LABEL) # set the x label\n",
    "\n",
    "print 'Mu_eff = %f(%f)' % (Mu_eff, Mu_eff_err)\n",
    "print 'Weiss_theta = %f(%f)' % (Weiss_theta, Weiss_theta_err)\n",
    "print 'Chi_0 = %f(%f)' % (Chi_0, Chi_0_err)"
   ]
  },
  {
   "cell_type": "markdown",
   "metadata": {},
   "source": [
    "I'll now quickly run through how one might perform a Curie-Weiss fit to the inverse susceptibility data, with Chi_0 as a manually-varied parameter, rather than a refined parameter."
   ]
  },
  {
   "cell_type": "code",
   "execution_count": 54,
   "metadata": {
    "collapsed": true
   },
   "outputs": [],
   "source": [
    "def CW_inv_fit(T, C, theta_W):\n",
    "    return T/C - theta_W/C"
   ]
  },
  {
   "cell_type": "code",
   "execution_count": 84,
   "metadata": {
    "collapsed": false
   },
   "outputs": [
    {
     "name": "stdout",
     "output_type": "stream",
     "text": [
      "Mu_eff = 1.267689(0.073271)\n",
      "Weiss_theta = -94.631394(0.894516)\n"
     ]
    },
    {
     "data": {
      "image/png": "[encoded data removed]",
      "text/plain": [
       "<matplotlib.figure.Figure at 0x10f693150>"
      ]
     },
     "metadata": {},
     "output_type": "display_data"
    }
   ],
   "source": [
    "chi0_guess = -0.000083 #Change this value manually\n",
    "\n",
    "popt3, pcov3 = curve_fit(CW_inv_fit, T[START_INDEX:], \n",
    "                         1/(Chi[START_INDEX:]-chi0_guess))\n",
    "# compute fit\n",
    "third_fit = CW_inv_fit(T[START_INDEX:], popt3[0], popt3[1])\n",
    "# statistical errors\n",
    "perr3 = np.sqrt(np.diag(pcov3))\n",
    "\n",
    "Mu_eff = 2.82*np.sqrt(popt3[0])\n",
    "Mu_eff_err = 2.82*np.sqrt(perr3[0])\n",
    "Weiss_theta = popt3[1]\n",
    "Weiss_theta_err = perr3[1]\n",
    "\n",
    "f, (ax1, ax2) = plt.subplots(2, sharex=True)\n",
    "\n",
    "ax1.plot(T, 1/(Chi-chi0_guess), 'x')\n",
    "ax1.plot(T[START_INDEX:], third_fit, color='red')\n",
    "ax1.set_ylabel('($\\chi$ - $\\chi_0$)$^{-1}$') #Set the y label\n",
    "\n",
    "# view errors\n",
    "error3 = 1/(Chi[START_INDEX:]-chi0_guess)-third_fit\n",
    "\n",
    "ax2.plot(T[START_INDEX:], error3, 'x')\n",
    "ax2.set_ylabel('($\\chi$ - $\\chi_0$)$^{-1}$') #Set the y label\n",
    "ax2.set_xlabel(T_LABEL) #Set the x label\n",
    "\n",
    "print 'Mu_eff = %f(%f)' % (Mu_eff, Mu_eff_err)\n",
    "print 'Weiss_theta = %f(%f)' % (Weiss_theta, Weiss_theta_err)"
   ]
  },
  {
   "cell_type": "markdown",
   "metadata": {},
   "source": [
    "You can play with the value of Chi0_guess in the cell above to convince yourself that there is a wide range of Chi0 values that will give a good fit, but with significantly different values for mu_eff and theta_w. For this reason, it is sometimes better to refine Chi0 as we did earlier in this tutorial. Either way, you now have the tools necessary to visualize physical properties data and perform Curie-Weiss fitting using the iPython notebook!"
   ]
  }
 ],
 "metadata": {
  "kernelspec": {
   "display_name": "Python 2",
   "language": "python",
   "name": "python2"
  },
  "language_info": {
   "codemirror_mode": {
    "name": "ipython",
    "version": 2
   },
   "file_extension": ".py",
   "mimetype": "text/x-python",
   "name": "python",
   "nbconvert_exporter": "python",
   "pygments_lexer": "ipython2",
   "version": "2.7.9"
  }
 },
 "nbformat": 4,
 "nbformat_minor": 0
}
